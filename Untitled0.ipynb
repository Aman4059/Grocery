{
  "nbformat": 4,
  "nbformat_minor": 0,
  "metadata": {
    "colab": {
      "provenance": [],
      "authorship_tag": "ABX9TyMMoY8pa83WXZJCo3Cf7lvr",
      "include_colab_link": true
    },
    "kernelspec": {
      "name": "python3",
      "display_name": "Python 3"
    },
    "language_info": {
      "name": "python"
    }
  },
  "cells": [
    {
      "cell_type": "markdown",
      "metadata": {
        "id": "view-in-github",
        "colab_type": "text"
      },
      "source": [
        "<a href=\"https://colab.research.google.com/github/Aman4059/Grocery/blob/main/Untitled0.ipynb\" target=\"_parent\"><img src=\"https://colab.research.google.com/assets/colab-badge.svg\" alt=\"Open In Colab\"/></a>"
      ]
    },
    {
      "cell_type": "code",
      "execution_count": 1,
      "metadata": {
        "colab": {
          "base_uri": "https://localhost:8080/"
        },
        "id": "5UJP4rWFpAhN",
        "outputId": "dcd406be-f10c-4aab-fc9a-9ecd025f9e34"
      },
      "outputs": [
        {
          "output_type": "stream",
          "name": "stdout",
          "text": [
            "Aman\n",
            "item 1:sugar\n",
            "item 2:flour\n",
            "item 3:Daal moong\n",
            "item price :45\n",
            "item price :100\n",
            "item price :200\n",
            "item quantity :5\n",
            "item quantity :100\n",
            "item quantity :56\n",
            "grand total 21425\n",
            "you got 40% discount 12855.0\n"
          ]
        }
      ],
      "source": [
        "#  CASE STUDY 1 : grocery store calculator\n",
        "customer_name=input(\"\")\n",
        "name1 =input(\"item 1:\")\n",
        "name2=input(\"item 2:\")\n",
        "name3=input(\"item 3:\")\n",
        "price1 =int(input(\"item price :\"))\n",
        "price2 =int(input(\"item price :\"))\n",
        "price3 =int(input(\"item price :\"))\n",
        "quantity1=int(input(\"item quantity :\"))\n",
        "quantity2=int(input(\"item quantity :\"))\n",
        "quantity3=int(input(\"item quantity :\"))\n",
        "total_price=(price1*quantity1)+(price2*quantity2)+(price3*quantity3)\n",
        "print(\"grand total\",(total_price))\n",
        "if total_price>4500:\n",
        "   discount=total_price-(0.4*total_price)\n",
        "   print(\"you got 40% discount\",(discount))\n",
        "elif total_price>500:\n",
        "  discount=total_price-(0.1*total_price)\n",
        "  print(\"you got 10% discount\",(discount))\n",
        "else:\n",
        "       print(\"Thankyou for shopping\")"
      ]
    }
  ]
}